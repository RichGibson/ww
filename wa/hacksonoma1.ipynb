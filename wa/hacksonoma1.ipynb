{
 "cells": [
  {
   "cell_type": "markdown",
   "metadata": {},
   "source": [
    "#  Natural Language Processing with pattern and NLTK\n",
    "\n",
    "![alt text](https://imgs.xkcd.com/comics/python.png \"Programming is fun again\")\n"
   ]
  },
  {
   "cell_type": "markdown",
   "metadata": {},
   "source": [
    "## NLP\n",
    "\n",
    "Big and hard and complicated and fascinating.\n",
    "\n"
   ]
  },
  {
   "cell_type": "markdown",
   "metadata": {},
   "source": [
    "## pattern\n",
    "\n",
    "[Computational Linguistics & Psycholinguistics Research Center](http://www.clips.ua.ac.be/pattern)\n",
    "\n"
   ]
  },
  {
   "cell_type": "code",
   "execution_count": 14,
   "metadata": {
    "collapsed": true,
    "deletable": true,
    "editable": true
   },
   "outputs": [],
   "source": [
    "#### -*- coding: utf-8 -*\n",
    "#from pattern.de import gender, MALE, FEMALE, NEUTRAL\n",
    "#from pattern.de import article, DEFINITE, INDEFINITE, FEMALE, OBJECT, SUBJECT\n",
    "from pattern import de\n",
    "from pattern import en\n",
    "from pattern import es"
   ]
  },
  {
   "cell_type": "code",
   "execution_count": 11,
   "metadata": {
    "collapsed": false,
    "deletable": true,
    "editable": true
   },
   "outputs": [
    {
     "name": "stdout",
     "output_type": "stream",
     "text": [
      "f\n",
      "Katzen\n",
      "gatos\n",
      "Cats\n"
     ]
    }
   ],
   "source": [
    "print de.pluralize('Katze')\n",
    "print es.pluralize('Gato')\n",
    "print en.pluralize('Cat')"
   ]
  },
  {
   "cell_type": "code",
   "execution_count": 12,
   "metadata": {
    "collapsed": false,
    "deletable": true,
    "editable": true
   },
   "outputs": [
    {
     "name": "stdout",
     "output_type": "stream",
     "text": [
      "f\n",
      "n\n"
     ]
    }
   ],
   "source": [
    "print de.gender('Katze')\n",
    "print de.gender('Mädchen'.decode('utf-8'))"
   ]
  },
  {
   "cell_type": "code",
   "execution_count": null,
   "metadata": {
    "collapsed": true,
    "deletable": true,
    "editable": true
   },
   "outputs": [],
   "source": [
    "print \"hello\""
   ]
  }
 ],
 "metadata": {
  "kernelspec": {
   "display_name": "Python 2",
   "language": "python",
   "name": "python2"
  },
  "language_info": {
   "codemirror_mode": {
    "name": "ipython",
    "version": 2.0
   },
   "file_extension": ".py",
   "mimetype": "text/x-python",
   "name": "python",
   "nbconvert_exporter": "python",
   "pygments_lexer": "ipython2",
   "version": "2.7.13"
  }
 },
 "nbformat": 4,
 "nbformat_minor": 0
}